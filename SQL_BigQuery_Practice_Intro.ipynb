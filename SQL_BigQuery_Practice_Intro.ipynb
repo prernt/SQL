{
 "cells": [
  {
   "cell_type": "markdown",
   "id": "91a0c241",
   "metadata": {
    "papermill": {
     "duration": 0.005957,
     "end_time": "2022-12-30T07:30:43.618272",
     "exception": false,
     "start_time": "2022-12-30T07:30:43.612315",
     "status": "completed"
    },
    "tags": []
   },
   "source": [
    "**This notebook is an exercise in the [SQL](https://www.kaggle.com/learn/intro-to-sql) course.  You can reference the tutorial at [this link](https://www.kaggle.com/dansbecker/getting-started-with-sql-and-bigquery).**\n",
    "\n",
    "---\n"
   ]
  },
  {
   "cell_type": "markdown",
   "id": "766a8cc0",
   "metadata": {
    "papermill": {
     "duration": 0.004722,
     "end_time": "2022-12-30T07:30:43.627972",
     "exception": false,
     "start_time": "2022-12-30T07:30:43.623250",
     "status": "completed"
    },
    "tags": []
   },
   "source": [
    "# Introduction\n",
    "\n",
    "The first test of your new data exploration skills uses data describing crime in the city of Chicago.\n",
    "\n",
    "Before you get started, run the following cell. It sets up the automated feedback system to review your answers."
   ]
  },
  {
   "cell_type": "code",
   "execution_count": 1,
   "id": "3de3d3f6",
   "metadata": {
    "execution": {
     "iopub.execute_input": "2022-12-30T07:30:43.640270Z",
     "iopub.status.busy": "2022-12-30T07:30:43.639707Z",
     "iopub.status.idle": "2022-12-30T07:30:44.874338Z",
     "shell.execute_reply": "2022-12-30T07:30:44.873344Z"
    },
    "papermill": {
     "duration": 1.244312,
     "end_time": "2022-12-30T07:30:44.877290",
     "exception": false,
     "start_time": "2022-12-30T07:30:43.632978",
     "status": "completed"
    },
    "tags": []
   },
   "outputs": [
    {
     "name": "stdout",
     "output_type": "stream",
     "text": [
      "Using Kaggle's public dataset BigQuery integration.\n",
      "Setup Complete\n"
     ]
    }
   ],
   "source": [
    "# Set up feedack system\n",
    "from learntools.core import binder\n",
    "binder.bind(globals())\n",
    "from learntools.sql.ex1 import *\n",
    "print(\"Setup Complete\")"
   ]
  },
  {
   "cell_type": "markdown",
   "id": "d4e52049",
   "metadata": {
    "papermill": {
     "duration": 0.004946,
     "end_time": "2022-12-30T07:30:44.887824",
     "exception": false,
     "start_time": "2022-12-30T07:30:44.882878",
     "status": "completed"
    },
    "tags": []
   },
   "source": [
    "Use the next code cell to fetch the dataset."
   ]
  },
  {
   "cell_type": "code",
   "execution_count": 2,
   "id": "d4b20325",
   "metadata": {
    "execution": {
     "iopub.execute_input": "2022-12-30T07:30:44.900161Z",
     "iopub.status.busy": "2022-12-30T07:30:44.899778Z",
     "iopub.status.idle": "2022-12-30T07:30:45.186471Z",
     "shell.execute_reply": "2022-12-30T07:30:45.184206Z"
    },
    "papermill": {
     "duration": 0.296451,
     "end_time": "2022-12-30T07:30:45.189547",
     "exception": false,
     "start_time": "2022-12-30T07:30:44.893096",
     "status": "completed"
    },
    "tags": []
   },
   "outputs": [
    {
     "name": "stdout",
     "output_type": "stream",
     "text": [
      "Using Kaggle's public dataset BigQuery integration.\n"
     ]
    }
   ],
   "source": [
    "from google.cloud import bigquery\n",
    "\n",
    "# Create a \"Client\" object\n",
    "client = bigquery.Client()\n",
    "\n",
    "# Construct a reference to the \"chicago_crime\" dataset\n",
    "dataset_ref = client.dataset(\"chicago_crime\", project=\"bigquery-public-data\")\n",
    "\n",
    "# API request - fetch the dataset\n",
    "dataset = client.get_dataset(dataset_ref)"
   ]
  },
  {
   "cell_type": "markdown",
   "id": "e17f90c9",
   "metadata": {
    "papermill": {
     "duration": 0.005222,
     "end_time": "2022-12-30T07:30:45.200397",
     "exception": false,
     "start_time": "2022-12-30T07:30:45.195175",
     "status": "completed"
    },
    "tags": []
   },
   "source": [
    "# Exercises\n",
    "\n",
    "### 1) Count tables in the dataset\n",
    "\n",
    "How many tables are in the Chicago Crime dataset?"
   ]
  },
  {
   "cell_type": "code",
   "execution_count": 3,
   "id": "62738b16",
   "metadata": {
    "execution": {
     "iopub.execute_input": "2022-12-30T07:30:45.213789Z",
     "iopub.status.busy": "2022-12-30T07:30:45.213399Z",
     "iopub.status.idle": "2022-12-30T07:30:45.219953Z",
     "shell.execute_reply": "2022-12-30T07:30:45.218165Z"
    },
    "papermill": {
     "duration": 0.016902,
     "end_time": "2022-12-30T07:30:45.222772",
     "exception": false,
     "start_time": "2022-12-30T07:30:45.205870",
     "status": "completed"
    },
    "tags": []
   },
   "outputs": [],
   "source": [
    "# Write the code you need here to figure out the answer\n"
   ]
  },
  {
   "cell_type": "code",
   "execution_count": 4,
   "id": "5db1d3d8",
   "metadata": {
    "execution": {
     "iopub.execute_input": "2022-12-30T07:30:45.237562Z",
     "iopub.status.busy": "2022-12-30T07:30:45.237081Z",
     "iopub.status.idle": "2022-12-30T07:30:45.512112Z",
     "shell.execute_reply": "2022-12-30T07:30:45.511105Z"
    },
    "papermill": {
     "duration": 0.286075,
     "end_time": "2022-12-30T07:30:45.514679",
     "exception": false,
     "start_time": "2022-12-30T07:30:45.228604",
     "status": "completed"
    },
    "tags": []
   },
   "outputs": [],
   "source": [
    "tables = list(client.list_tables(dataset))\n",
    "# count = len(tables)"
   ]
  },
  {
   "cell_type": "code",
   "execution_count": 5,
   "id": "b6ad8bd5",
   "metadata": {
    "execution": {
     "iopub.execute_input": "2022-12-30T07:30:45.526677Z",
     "iopub.status.busy": "2022-12-30T07:30:45.526262Z",
     "iopub.status.idle": "2022-12-30T07:30:45.537603Z",
     "shell.execute_reply": "2022-12-30T07:30:45.536433Z"
    },
    "papermill": {
     "duration": 0.019592,
     "end_time": "2022-12-30T07:30:45.539569",
     "exception": false,
     "start_time": "2022-12-30T07:30:45.519977",
     "status": "completed"
    },
    "tags": []
   },
   "outputs": [
    {
     "data": {
      "application/javascript": [
       "parent.postMessage({\"jupyterEvent\": \"custom.exercise_interaction\", \"data\": {\"outcomeType\": 1, \"valueTowardsCompletion\": 0.3333333333333333, \"interactionType\": 1, \"questionType\": 1, \"questionId\": \"1_CountTables\", \"learnToolsVersion\": \"0.3.4\", \"failureMessage\": \"\", \"exceptionClass\": \"\", \"trace\": \"\"}}, \"*\")"
      ],
      "text/plain": [
       "<IPython.core.display.Javascript object>"
      ]
     },
     "metadata": {},
     "output_type": "display_data"
    },
    {
     "data": {
      "text/markdown": [
       "<span style=\"color:#33cc33\">Correct</span>"
      ],
      "text/plain": [
       "Correct"
      ]
     },
     "metadata": {},
     "output_type": "display_data"
    }
   ],
   "source": [
    "num_tables = len(tables)  # Store the answer as num_tables and then run this cell\n",
    "\n",
    "# Check your answer\n",
    "q_1.check()"
   ]
  },
  {
   "cell_type": "markdown",
   "id": "047beef6",
   "metadata": {
    "papermill": {
     "duration": 0.005075,
     "end_time": "2022-12-30T07:30:45.550250",
     "exception": false,
     "start_time": "2022-12-30T07:30:45.545175",
     "status": "completed"
    },
    "tags": []
   },
   "source": [
    "For a hint or the solution, uncomment the appropriate line below."
   ]
  },
  {
   "cell_type": "code",
   "execution_count": 6,
   "id": "de56cc33",
   "metadata": {
    "execution": {
     "iopub.execute_input": "2022-12-30T07:30:45.563688Z",
     "iopub.status.busy": "2022-12-30T07:30:45.563268Z",
     "iopub.status.idle": "2022-12-30T07:30:45.575110Z",
     "shell.execute_reply": "2022-12-30T07:30:45.573951Z"
    },
    "papermill": {
     "duration": 0.021401,
     "end_time": "2022-12-30T07:30:45.577008",
     "exception": false,
     "start_time": "2022-12-30T07:30:45.555607",
     "status": "completed"
    },
    "tags": []
   },
   "outputs": [
    {
     "data": {
      "application/javascript": [
       "parent.postMessage({\"jupyterEvent\": \"custom.exercise_interaction\", \"data\": {\"interactionType\": 2, \"questionType\": 1, \"questionId\": \"1_CountTables\", \"learnToolsVersion\": \"0.3.4\", \"valueTowardsCompletion\": 0.0, \"failureMessage\": \"\", \"exceptionClass\": \"\", \"trace\": \"\", \"outcomeType\": 4}}, \"*\")"
      ],
      "text/plain": [
       "<IPython.core.display.Javascript object>"
      ]
     },
     "metadata": {},
     "output_type": "display_data"
    },
    {
     "data": {
      "text/markdown": [
       "<span style=\"color:#3366cc\">Hint:</span> Use the `list_tables()` method to get a list of the tables in the dataset."
      ],
      "text/plain": [
       "Hint: Use the `list_tables()` method to get a list of the tables in the dataset."
      ]
     },
     "metadata": {},
     "output_type": "display_data"
    },
    {
     "data": {
      "application/javascript": [
       "parent.postMessage({\"jupyterEvent\": \"custom.exercise_interaction\", \"data\": {\"interactionType\": 3, \"questionType\": 1, \"questionId\": \"1_CountTables\", \"learnToolsVersion\": \"0.3.4\", \"valueTowardsCompletion\": 0.0, \"failureMessage\": \"\", \"exceptionClass\": \"\", \"trace\": \"\", \"outcomeType\": 4}}, \"*\")"
      ],
      "text/plain": [
       "<IPython.core.display.Javascript object>"
      ]
     },
     "metadata": {},
     "output_type": "display_data"
    },
    {
     "data": {
      "text/markdown": [
       "<span style=\"color:#33cc99\">Solution:</span> \n",
       "```python\n",
       "\n",
       "# List all the tables in the \"chicago_crime\" dataset\n",
       "tables = list(client.list_tables(dataset))\n",
       "\n",
       "# Print number of tables in the dataset\n",
       "print(len(tables))\n",
       "\n",
       "num_tables = 1\n",
       "\n",
       "```"
      ],
      "text/plain": [
       "Solution: \n",
       "```python\n",
       "\n",
       "# List all the tables in the \"chicago_crime\" dataset\n",
       "tables = list(client.list_tables(dataset))\n",
       "\n",
       "# Print number of tables in the dataset\n",
       "print(len(tables))\n",
       "\n",
       "num_tables = 1\n",
       "\n",
       "```"
      ]
     },
     "metadata": {},
     "output_type": "display_data"
    }
   ],
   "source": [
    "q_1.hint()\n",
    "q_1.solution()"
   ]
  },
  {
   "cell_type": "markdown",
   "id": "69b3363e",
   "metadata": {
    "papermill": {
     "duration": 0.005721,
     "end_time": "2022-12-30T07:30:45.588972",
     "exception": false,
     "start_time": "2022-12-30T07:30:45.583251",
     "status": "completed"
    },
    "tags": []
   },
   "source": [
    "### 2) Explore the table schema\n",
    "\n",
    "How many columns in the `crime` table have `TIMESTAMP` data?"
   ]
  },
  {
   "cell_type": "code",
   "execution_count": 7,
   "id": "50624ebc",
   "metadata": {
    "execution": {
     "iopub.execute_input": "2022-12-30T07:30:45.604105Z",
     "iopub.status.busy": "2022-12-30T07:30:45.603638Z",
     "iopub.status.idle": "2022-12-30T07:30:45.943833Z",
     "shell.execute_reply": "2022-12-30T07:30:45.943133Z"
    },
    "papermill": {
     "duration": 0.350793,
     "end_time": "2022-12-30T07:30:45.945806",
     "exception": false,
     "start_time": "2022-12-30T07:30:45.595013",
     "status": "completed"
    },
    "tags": []
   },
   "outputs": [
    {
     "name": "stdout",
     "output_type": "stream",
     "text": [
      "crime\n",
      "[SchemaField('unique_key', 'INTEGER', 'REQUIRED', None, (), None), SchemaField('case_number', 'STRING', 'NULLABLE', None, (), None), SchemaField('date', 'TIMESTAMP', 'NULLABLE', None, (), None), SchemaField('block', 'STRING', 'NULLABLE', None, (), None), SchemaField('iucr', 'STRING', 'NULLABLE', None, (), None), SchemaField('primary_type', 'STRING', 'NULLABLE', None, (), None), SchemaField('description', 'STRING', 'NULLABLE', None, (), None), SchemaField('location_description', 'STRING', 'NULLABLE', None, (), None), SchemaField('arrest', 'BOOLEAN', 'NULLABLE', None, (), None), SchemaField('domestic', 'BOOLEAN', 'NULLABLE', None, (), None), SchemaField('beat', 'INTEGER', 'NULLABLE', None, (), None), SchemaField('district', 'INTEGER', 'NULLABLE', None, (), None), SchemaField('ward', 'INTEGER', 'NULLABLE', None, (), None), SchemaField('community_area', 'INTEGER', 'NULLABLE', None, (), None), SchemaField('fbi_code', 'STRING', 'NULLABLE', None, (), None), SchemaField('x_coordinate', 'FLOAT', 'NULLABLE', None, (), None), SchemaField('y_coordinate', 'FLOAT', 'NULLABLE', None, (), None), SchemaField('year', 'INTEGER', 'NULLABLE', None, (), None), SchemaField('updated_on', 'TIMESTAMP', 'NULLABLE', None, (), None), SchemaField('latitude', 'FLOAT', 'NULLABLE', None, (), None), SchemaField('longitude', 'FLOAT', 'NULLABLE', None, (), None), SchemaField('location', 'STRING', 'NULLABLE', None, (), None)]\n"
     ]
    }
   ],
   "source": [
    "# Write the code to figure out the answer\n",
    "for table in tables:\n",
    "    print(table.table_id)\n",
    "table_ref = dataset_ref.table(\"crime\")\n",
    "table = client.get_table(table_ref)\n",
    "schema = table.schema\n",
    "print(schema)  "
   ]
  },
  {
   "cell_type": "code",
   "execution_count": 8,
   "id": "51156cde",
   "metadata": {
    "execution": {
     "iopub.execute_input": "2022-12-30T07:30:45.959559Z",
     "iopub.status.busy": "2022-12-30T07:30:45.959100Z",
     "iopub.status.idle": "2022-12-30T07:30:46.529259Z",
     "shell.execute_reply": "2022-12-30T07:30:46.528060Z"
    },
    "papermill": {
     "duration": 0.579407,
     "end_time": "2022-12-30T07:30:46.531271",
     "exception": false,
     "start_time": "2022-12-30T07:30:45.951864",
     "status": "completed"
    },
    "tags": []
   },
   "outputs": [
    {
     "name": "stderr",
     "output_type": "stream",
     "text": [
      "/opt/conda/lib/python3.7/site-packages/ipykernel_launcher.py:1: UserWarning: Cannot use bqstorage_client if max_results is set, reverting to fetching data with the tabledata.list endpoint.\n",
      "  \"\"\"Entry point for launching an IPython kernel.\n"
     ]
    },
    {
     "data": {
      "text/html": [
       "<div>\n",
       "<style scoped>\n",
       "    .dataframe tbody tr th:only-of-type {\n",
       "        vertical-align: middle;\n",
       "    }\n",
       "\n",
       "    .dataframe tbody tr th {\n",
       "        vertical-align: top;\n",
       "    }\n",
       "\n",
       "    .dataframe thead th {\n",
       "        text-align: right;\n",
       "    }\n",
       "</style>\n",
       "<table border=\"1\" class=\"dataframe\">\n",
       "  <thead>\n",
       "    <tr style=\"text-align: right;\">\n",
       "      <th></th>\n",
       "      <th>unique_key</th>\n",
       "      <th>case_number</th>\n",
       "      <th>date</th>\n",
       "      <th>block</th>\n",
       "      <th>iucr</th>\n",
       "      <th>primary_type</th>\n",
       "      <th>description</th>\n",
       "      <th>location_description</th>\n",
       "      <th>arrest</th>\n",
       "      <th>domestic</th>\n",
       "      <th>...</th>\n",
       "      <th>ward</th>\n",
       "      <th>community_area</th>\n",
       "      <th>fbi_code</th>\n",
       "      <th>x_coordinate</th>\n",
       "      <th>y_coordinate</th>\n",
       "      <th>year</th>\n",
       "      <th>updated_on</th>\n",
       "      <th>latitude</th>\n",
       "      <th>longitude</th>\n",
       "      <th>location</th>\n",
       "    </tr>\n",
       "  </thead>\n",
       "  <tbody>\n",
       "    <tr>\n",
       "      <th>0</th>\n",
       "      <td>2470</td>\n",
       "      <td>HJ734116</td>\n",
       "      <td>2003-11-02 01:26:00+00:00</td>\n",
       "      <td>006XX E 103RD PL</td>\n",
       "      <td>0110</td>\n",
       "      <td>HOMICIDE</td>\n",
       "      <td>FIRST DEGREE MURDER</td>\n",
       "      <td>BASEMENT</td>\n",
       "      <td>True</td>\n",
       "      <td>True</td>\n",
       "      <td>...</td>\n",
       "      <td>9</td>\n",
       "      <td>49</td>\n",
       "      <td>01A</td>\n",
       "      <td>1182282.0</td>\n",
       "      <td>1836469.0</td>\n",
       "      <td>2003</td>\n",
       "      <td>2022-08-31 04:51:30+00:00</td>\n",
       "      <td>41.706486</td>\n",
       "      <td>-87.608098</td>\n",
       "      <td>(41.706486077, -87.608098429)</td>\n",
       "    </tr>\n",
       "    <tr>\n",
       "      <th>1</th>\n",
       "      <td>23284</td>\n",
       "      <td>JA262620</td>\n",
       "      <td>2017-05-13 08:55:00+00:00</td>\n",
       "      <td>000XX W 105TH ST</td>\n",
       "      <td>0110</td>\n",
       "      <td>HOMICIDE</td>\n",
       "      <td>FIRST DEGREE MURDER</td>\n",
       "      <td>ALLEY</td>\n",
       "      <td>False</td>\n",
       "      <td>False</td>\n",
       "      <td>...</td>\n",
       "      <td>34</td>\n",
       "      <td>49</td>\n",
       "      <td>01A</td>\n",
       "      <td>1177939.0</td>\n",
       "      <td>1835349.0</td>\n",
       "      <td>2017</td>\n",
       "      <td>2022-09-18 04:45:51+00:00</td>\n",
       "      <td>41.703512</td>\n",
       "      <td>-87.624036</td>\n",
       "      <td>(41.70351191, -87.624036004)</td>\n",
       "    </tr>\n",
       "    <tr>\n",
       "      <th>2</th>\n",
       "      <td>24086</td>\n",
       "      <td>JB367346</td>\n",
       "      <td>2018-07-27 11:42:00+00:00</td>\n",
       "      <td>104XX S WABASH AVE</td>\n",
       "      <td>0110</td>\n",
       "      <td>HOMICIDE</td>\n",
       "      <td>FIRST DEGREE MURDER</td>\n",
       "      <td>STREET</td>\n",
       "      <td>False</td>\n",
       "      <td>False</td>\n",
       "      <td>...</td>\n",
       "      <td>9</td>\n",
       "      <td>49</td>\n",
       "      <td>01A</td>\n",
       "      <td>1178421.0</td>\n",
       "      <td>1835701.0</td>\n",
       "      <td>2018</td>\n",
       "      <td>2022-08-31 04:51:30+00:00</td>\n",
       "      <td>41.704467</td>\n",
       "      <td>-87.622260</td>\n",
       "      <td>(41.704466939, -87.622260387)</td>\n",
       "    </tr>\n",
       "    <tr>\n",
       "      <th>3</th>\n",
       "      <td>20900</td>\n",
       "      <td>HW295447</td>\n",
       "      <td>2013-05-29 03:11:00+00:00</td>\n",
       "      <td>000XX W 107TH ST</td>\n",
       "      <td>0110</td>\n",
       "      <td>HOMICIDE</td>\n",
       "      <td>FIRST DEGREE MURDER</td>\n",
       "      <td>STREET</td>\n",
       "      <td>True</td>\n",
       "      <td>False</td>\n",
       "      <td>...</td>\n",
       "      <td>34</td>\n",
       "      <td>49</td>\n",
       "      <td>01A</td>\n",
       "      <td>1177693.0</td>\n",
       "      <td>1834013.0</td>\n",
       "      <td>2013</td>\n",
       "      <td>2022-08-31 04:51:30+00:00</td>\n",
       "      <td>41.699851</td>\n",
       "      <td>-87.624977</td>\n",
       "      <td>(41.699851294, -87.624977038)</td>\n",
       "    </tr>\n",
       "    <tr>\n",
       "      <th>4</th>\n",
       "      <td>22823</td>\n",
       "      <td>HZ459434</td>\n",
       "      <td>2016-10-03 02:56:00+00:00</td>\n",
       "      <td>106XX S STATE ST</td>\n",
       "      <td>0110</td>\n",
       "      <td>HOMICIDE</td>\n",
       "      <td>FIRST DEGREE MURDER</td>\n",
       "      <td>STREET</td>\n",
       "      <td>False</td>\n",
       "      <td>False</td>\n",
       "      <td>...</td>\n",
       "      <td>34</td>\n",
       "      <td>49</td>\n",
       "      <td>01A</td>\n",
       "      <td>1178141.0</td>\n",
       "      <td>1834249.0</td>\n",
       "      <td>2016</td>\n",
       "      <td>2022-09-18 04:45:51+00:00</td>\n",
       "      <td>41.700489</td>\n",
       "      <td>-87.623330</td>\n",
       "      <td>(41.700488788, -87.623329533)</td>\n",
       "    </tr>\n",
       "  </tbody>\n",
       "</table>\n",
       "<p>5 rows × 22 columns</p>\n",
       "</div>"
      ],
      "text/plain": [
       "   unique_key case_number                      date               block  iucr  \\\n",
       "0        2470    HJ734116 2003-11-02 01:26:00+00:00    006XX E 103RD PL  0110   \n",
       "1       23284    JA262620 2017-05-13 08:55:00+00:00    000XX W 105TH ST  0110   \n",
       "2       24086    JB367346 2018-07-27 11:42:00+00:00  104XX S WABASH AVE  0110   \n",
       "3       20900    HW295447 2013-05-29 03:11:00+00:00    000XX W 107TH ST  0110   \n",
       "4       22823    HZ459434 2016-10-03 02:56:00+00:00    106XX S STATE ST  0110   \n",
       "\n",
       "  primary_type          description location_description  arrest  domestic  \\\n",
       "0     HOMICIDE  FIRST DEGREE MURDER             BASEMENT    True      True   \n",
       "1     HOMICIDE  FIRST DEGREE MURDER                ALLEY   False     False   \n",
       "2     HOMICIDE  FIRST DEGREE MURDER               STREET   False     False   \n",
       "3     HOMICIDE  FIRST DEGREE MURDER               STREET    True     False   \n",
       "4     HOMICIDE  FIRST DEGREE MURDER               STREET   False     False   \n",
       "\n",
       "   ...  ward  community_area  fbi_code  x_coordinate y_coordinate  year  \\\n",
       "0  ...     9              49       01A     1182282.0    1836469.0  2003   \n",
       "1  ...    34              49       01A     1177939.0    1835349.0  2017   \n",
       "2  ...     9              49       01A     1178421.0    1835701.0  2018   \n",
       "3  ...    34              49       01A     1177693.0    1834013.0  2013   \n",
       "4  ...    34              49       01A     1178141.0    1834249.0  2016   \n",
       "\n",
       "                 updated_on   latitude  longitude  \\\n",
       "0 2022-08-31 04:51:30+00:00  41.706486 -87.608098   \n",
       "1 2022-09-18 04:45:51+00:00  41.703512 -87.624036   \n",
       "2 2022-08-31 04:51:30+00:00  41.704467 -87.622260   \n",
       "3 2022-08-31 04:51:30+00:00  41.699851 -87.624977   \n",
       "4 2022-09-18 04:45:51+00:00  41.700489 -87.623330   \n",
       "\n",
       "                        location  \n",
       "0  (41.706486077, -87.608098429)  \n",
       "1   (41.70351191, -87.624036004)  \n",
       "2  (41.704466939, -87.622260387)  \n",
       "3  (41.699851294, -87.624977038)  \n",
       "4  (41.700488788, -87.623329533)  \n",
       "\n",
       "[5 rows x 22 columns]"
      ]
     },
     "execution_count": 8,
     "metadata": {},
     "output_type": "execute_result"
    }
   ],
   "source": [
    "client.list_rows(table, max_results=5).to_dataframe()"
   ]
  },
  {
   "cell_type": "code",
   "execution_count": 9,
   "id": "50e8bd6f",
   "metadata": {
    "execution": {
     "iopub.execute_input": "2022-12-30T07:30:46.547601Z",
     "iopub.status.busy": "2022-12-30T07:30:46.546911Z",
     "iopub.status.idle": "2022-12-30T07:30:46.557764Z",
     "shell.execute_reply": "2022-12-30T07:30:46.556539Z"
    },
    "papermill": {
     "duration": 0.0214,
     "end_time": "2022-12-30T07:30:46.559693",
     "exception": false,
     "start_time": "2022-12-30T07:30:46.538293",
     "status": "completed"
    },
    "tags": []
   },
   "outputs": [
    {
     "data": {
      "application/javascript": [
       "parent.postMessage({\"jupyterEvent\": \"custom.exercise_interaction\", \"data\": {\"outcomeType\": 1, \"valueTowardsCompletion\": 0.3333333333333333, \"interactionType\": 1, \"questionType\": 1, \"questionId\": \"2_CountTimestampFields\", \"learnToolsVersion\": \"0.3.4\", \"failureMessage\": \"\", \"exceptionClass\": \"\", \"trace\": \"\"}}, \"*\")"
      ],
      "text/plain": [
       "<IPython.core.display.Javascript object>"
      ]
     },
     "metadata": {},
     "output_type": "display_data"
    },
    {
     "data": {
      "text/markdown": [
       "<span style=\"color:#33cc33\">Correct</span>"
      ],
      "text/plain": [
       "Correct"
      ]
     },
     "metadata": {},
     "output_type": "display_data"
    }
   ],
   "source": [
    "\n",
    "count = 0 # Put your answer here\n",
    "for s in schema:\n",
    "    if s.field_type == 'TIMESTAMP':\n",
    "        count= count+1\n",
    "\n",
    "num_timestamp_fields = count\n",
    "\n",
    "# Check your answer\n",
    "q_2.check()"
   ]
  },
  {
   "cell_type": "markdown",
   "id": "da158e8a",
   "metadata": {
    "papermill": {
     "duration": 0.007787,
     "end_time": "2022-12-30T07:30:46.575688",
     "exception": false,
     "start_time": "2022-12-30T07:30:46.567901",
     "status": "completed"
    },
    "tags": []
   },
   "source": [
    "For a hint or the solution, uncomment the appropriate line below."
   ]
  },
  {
   "cell_type": "code",
   "execution_count": 10,
   "id": "6dba297c",
   "metadata": {
    "execution": {
     "iopub.execute_input": "2022-12-30T07:30:46.592695Z",
     "iopub.status.busy": "2022-12-30T07:30:46.592293Z",
     "iopub.status.idle": "2022-12-30T07:30:46.602481Z",
     "shell.execute_reply": "2022-12-30T07:30:46.601550Z"
    },
    "papermill": {
     "duration": 0.0208,
     "end_time": "2022-12-30T07:30:46.604523",
     "exception": false,
     "start_time": "2022-12-30T07:30:46.583723",
     "status": "completed"
    },
    "tags": []
   },
   "outputs": [
    {
     "data": {
      "application/javascript": [
       "parent.postMessage({\"jupyterEvent\": \"custom.exercise_interaction\", \"data\": {\"interactionType\": 2, \"questionType\": 1, \"questionId\": \"2_CountTimestampFields\", \"learnToolsVersion\": \"0.3.4\", \"valueTowardsCompletion\": 0.0, \"failureMessage\": \"\", \"exceptionClass\": \"\", \"trace\": \"\", \"outcomeType\": 4}}, \"*\")"
      ],
      "text/plain": [
       "<IPython.core.display.Javascript object>"
      ]
     },
     "metadata": {},
     "output_type": "display_data"
    },
    {
     "data": {
      "text/markdown": [
       "<span style=\"color:#3366cc\">Hint:</span> Begin by fetching the `crime` table. Then take a look at the table schema, and check the field type of each column.  How many times does `'TIMESTAMP'` appear?"
      ],
      "text/plain": [
       "Hint: Begin by fetching the `crime` table. Then take a look at the table schema, and check the field type of each column.  How many times does `'TIMESTAMP'` appear?"
      ]
     },
     "metadata": {},
     "output_type": "display_data"
    },
    {
     "data": {
      "application/javascript": [
       "parent.postMessage({\"jupyterEvent\": \"custom.exercise_interaction\", \"data\": {\"interactionType\": 3, \"questionType\": 1, \"questionId\": \"2_CountTimestampFields\", \"learnToolsVersion\": \"0.3.4\", \"valueTowardsCompletion\": 0.0, \"failureMessage\": \"\", \"exceptionClass\": \"\", \"trace\": \"\", \"outcomeType\": 4}}, \"*\")"
      ],
      "text/plain": [
       "<IPython.core.display.Javascript object>"
      ]
     },
     "metadata": {},
     "output_type": "display_data"
    },
    {
     "data": {
      "text/markdown": [
       "<span style=\"color:#33cc99\">Solution:</span> \n",
       "```python\n",
       "\n",
       "# Construct a reference to the \"crime\" table\n",
       "table_ref = dataset_ref.table(\"crime\")\n",
       "\n",
       "# API request - fetch the table\n",
       "table = client.get_table(table_ref)\n",
       "\n",
       "# Print information on all the columns in the \"crime\" table in the \"chicago_crime\" dataset\n",
       "print(table.schema)\n",
       "\n",
       "num_timestamp_fields = 2\n",
       "\n",
       "```"
      ],
      "text/plain": [
       "Solution: \n",
       "```python\n",
       "\n",
       "# Construct a reference to the \"crime\" table\n",
       "table_ref = dataset_ref.table(\"crime\")\n",
       "\n",
       "# API request - fetch the table\n",
       "table = client.get_table(table_ref)\n",
       "\n",
       "# Print information on all the columns in the \"crime\" table in the \"chicago_crime\" dataset\n",
       "print(table.schema)\n",
       "\n",
       "num_timestamp_fields = 2\n",
       "\n",
       "```"
      ]
     },
     "metadata": {},
     "output_type": "display_data"
    }
   ],
   "source": [
    "q_2.hint()\n",
    "q_2.solution()"
   ]
  },
  {
   "cell_type": "markdown",
   "id": "b04c70ea",
   "metadata": {
    "papermill": {
     "duration": 0.007246,
     "end_time": "2022-12-30T07:30:46.619296",
     "exception": false,
     "start_time": "2022-12-30T07:30:46.612050",
     "status": "completed"
    },
    "tags": []
   },
   "source": [
    "### 3) Create a crime map\n",
    "\n",
    "If you wanted to create a map with a dot at the location of each crime, what are the names of the two fields you likely need to pull out of the `crime` table to plot the crimes on a map?"
   ]
  },
  {
   "cell_type": "code",
   "execution_count": 11,
   "id": "d8391d24",
   "metadata": {
    "execution": {
     "iopub.execute_input": "2022-12-30T07:30:46.636309Z",
     "iopub.status.busy": "2022-12-30T07:30:46.635697Z",
     "iopub.status.idle": "2022-12-30T07:30:46.640170Z",
     "shell.execute_reply": "2022-12-30T07:30:46.639043Z"
    },
    "papermill": {
     "duration": 0.01578,
     "end_time": "2022-12-30T07:30:46.642769",
     "exception": false,
     "start_time": "2022-12-30T07:30:46.626989",
     "status": "completed"
    },
    "tags": []
   },
   "outputs": [],
   "source": [
    "# Write the code here to explore the data so you can find the answer"
   ]
  },
  {
   "cell_type": "code",
   "execution_count": 12,
   "id": "a4aed272",
   "metadata": {
    "execution": {
     "iopub.execute_input": "2022-12-30T07:30:46.660532Z",
     "iopub.status.busy": "2022-12-30T07:30:46.660113Z",
     "iopub.status.idle": "2022-12-30T07:30:46.669640Z",
     "shell.execute_reply": "2022-12-30T07:30:46.668695Z"
    },
    "papermill": {
     "duration": 0.020522,
     "end_time": "2022-12-30T07:30:46.671544",
     "exception": false,
     "start_time": "2022-12-30T07:30:46.651022",
     "status": "completed"
    },
    "tags": []
   },
   "outputs": [
    {
     "data": {
      "application/javascript": [
       "parent.postMessage({\"jupyterEvent\": \"custom.exercise_interaction\", \"data\": {\"outcomeType\": 1, \"valueTowardsCompletion\": 0.3333333333333333, \"interactionType\": 1, \"questionType\": 2, \"questionId\": \"3_IdentifyFieldsForPlotting\", \"learnToolsVersion\": \"0.3.4\", \"failureMessage\": \"\", \"exceptionClass\": \"\", \"trace\": \"\"}}, \"*\")"
      ],
      "text/plain": [
       "<IPython.core.display.Javascript object>"
      ]
     },
     "metadata": {},
     "output_type": "display_data"
    },
    {
     "data": {
      "text/markdown": [
       "<span style=\"color:#33cc33\">Correct</span>"
      ],
      "text/plain": [
       "Correct"
      ]
     },
     "metadata": {},
     "output_type": "display_data"
    }
   ],
   "source": [
    "fields_for_plotting = ['latitude', 'longitude'] # Put your answers here\n",
    "\n",
    "# Check your answer\n",
    "q_3.check()"
   ]
  },
  {
   "cell_type": "markdown",
   "id": "8a4f2833",
   "metadata": {
    "papermill": {
     "duration": 0.007686,
     "end_time": "2022-12-30T07:30:46.687523",
     "exception": false,
     "start_time": "2022-12-30T07:30:46.679837",
     "status": "completed"
    },
    "tags": []
   },
   "source": [
    "For a hint or the solution, uncomment the appropriate line below."
   ]
  },
  {
   "cell_type": "code",
   "execution_count": 13,
   "id": "2099c449",
   "metadata": {
    "execution": {
     "iopub.execute_input": "2022-12-30T07:30:46.705152Z",
     "iopub.status.busy": "2022-12-30T07:30:46.704462Z",
     "iopub.status.idle": "2022-12-30T07:30:46.715337Z",
     "shell.execute_reply": "2022-12-30T07:30:46.714406Z"
    },
    "papermill": {
     "duration": 0.021829,
     "end_time": "2022-12-30T07:30:46.717213",
     "exception": false,
     "start_time": "2022-12-30T07:30:46.695384",
     "status": "completed"
    },
    "tags": []
   },
   "outputs": [
    {
     "data": {
      "application/javascript": [
       "parent.postMessage({\"jupyterEvent\": \"custom.exercise_interaction\", \"data\": {\"interactionType\": 2, \"questionType\": 2, \"questionId\": \"3_IdentifyFieldsForPlotting\", \"learnToolsVersion\": \"0.3.4\", \"valueTowardsCompletion\": 0.0, \"failureMessage\": \"\", \"exceptionClass\": \"\", \"trace\": \"\", \"outcomeType\": 4}}, \"*\")"
      ],
      "text/plain": [
       "<IPython.core.display.Javascript object>"
      ]
     },
     "metadata": {},
     "output_type": "display_data"
    },
    {
     "data": {
      "text/markdown": [
       "<span style=\"color:#3366cc\">Hint:</span> Look at the table schema.  There are a couple options, but two of the fields are things commonly used to plot on maps. Both are `'FLOAT'` types. Use quotes around the field names in your answer."
      ],
      "text/plain": [
       "Hint: Look at the table schema.  There are a couple options, but two of the fields are things commonly used to plot on maps. Both are `'FLOAT'` types. Use quotes around the field names in your answer."
      ]
     },
     "metadata": {},
     "output_type": "display_data"
    },
    {
     "data": {
      "application/javascript": [
       "parent.postMessage({\"jupyterEvent\": \"custom.exercise_interaction\", \"data\": {\"interactionType\": 3, \"questionType\": 2, \"questionId\": \"3_IdentifyFieldsForPlotting\", \"learnToolsVersion\": \"0.3.4\", \"valueTowardsCompletion\": 0.0, \"failureMessage\": \"\", \"exceptionClass\": \"\", \"trace\": \"\", \"outcomeType\": 4}}, \"*\")"
      ],
      "text/plain": [
       "<IPython.core.display.Javascript object>"
      ]
     },
     "metadata": {},
     "output_type": "display_data"
    },
    {
     "data": {
      "text/markdown": [
       "<span style=\"color:#33cc99\">Solution:</span> \n",
       "```python\n",
       "fields_for_plotting = ['latitude', 'longitude']\n",
       "```"
      ],
      "text/plain": [
       "Solution: \n",
       "```python\n",
       "fields_for_plotting = ['latitude', 'longitude']\n",
       "```"
      ]
     },
     "metadata": {},
     "output_type": "display_data"
    }
   ],
   "source": [
    "q_3.hint()\n",
    "q_3.solution()"
   ]
  },
  {
   "cell_type": "markdown",
   "id": "f35e5e83",
   "metadata": {
    "papermill": {
     "duration": 0.008632,
     "end_time": "2022-12-30T07:30:46.734922",
     "exception": false,
     "start_time": "2022-12-30T07:30:46.726290",
     "status": "completed"
    },
    "tags": []
   },
   "source": [
    "Thinking about the question above, there are a few columns that appear to have geographic data. Look at a few values (with the `list_rows()` command) to see if you can determine their relationship.  Two columns will still be hard to interpret. But it should be obvious how the `location` column relates to `latitude` and `longitude`."
   ]
  },
  {
   "cell_type": "code",
   "execution_count": 14,
   "id": "020ee3b7",
   "metadata": {
    "execution": {
     "iopub.execute_input": "2022-12-30T07:30:46.753994Z",
     "iopub.status.busy": "2022-12-30T07:30:46.753627Z",
     "iopub.status.idle": "2022-12-30T07:30:46.758779Z",
     "shell.execute_reply": "2022-12-30T07:30:46.757051Z"
    },
    "papermill": {
     "duration": 0.017564,
     "end_time": "2022-12-30T07:30:46.761232",
     "exception": false,
     "start_time": "2022-12-30T07:30:46.743668",
     "status": "completed"
    },
    "tags": []
   },
   "outputs": [],
   "source": [
    "# Scratch space for your code"
   ]
  },
  {
   "cell_type": "markdown",
   "id": "7f342d95",
   "metadata": {
    "papermill": {
     "duration": 0.009459,
     "end_time": "2022-12-30T07:30:46.780808",
     "exception": false,
     "start_time": "2022-12-30T07:30:46.771349",
     "status": "completed"
    },
    "tags": []
   },
   "source": [
    "# Keep going\n",
    "\n",
    "You've looked at the schema, but you haven't yet done anything exciting with the data itself. Things get more interesting when you get to the data, so keep going to **[write your first SQL query](https://www.kaggle.com/dansbecker/select-from-where).**"
   ]
  },
  {
   "cell_type": "markdown",
   "id": "d269df77",
   "metadata": {
    "papermill": {
     "duration": 0.008445,
     "end_time": "2022-12-30T07:30:46.797717",
     "exception": false,
     "start_time": "2022-12-30T07:30:46.789272",
     "status": "completed"
    },
    "tags": []
   },
   "source": [
    "---\n",
    "\n",
    "\n",
    "\n",
    "\n",
    "*Have questions or comments? Visit the [course discussion forum](https://www.kaggle.com/learn/intro-to-sql/discussion) to chat with other learners.*"
   ]
  }
 ],
 "metadata": {
  "kernelspec": {
   "display_name": "Python 3",
   "language": "python",
   "name": "python3"
  },
  "language_info": {
   "codemirror_mode": {
    "name": "ipython",
    "version": 3
   },
   "file_extension": ".py",
   "mimetype": "text/x-python",
   "name": "python",
   "nbconvert_exporter": "python",
   "pygments_lexer": "ipython3",
   "version": "3.7.12"
  },
  "papermill": {
   "default_parameters": {},
   "duration": 13.683997,
   "end_time": "2022-12-30T07:30:47.528173",
   "environment_variables": {},
   "exception": null,
   "input_path": "__notebook__.ipynb",
   "output_path": "__notebook__.ipynb",
   "parameters": {},
   "start_time": "2022-12-30T07:30:33.844176",
   "version": "2.3.4"
  }
 },
 "nbformat": 4,
 "nbformat_minor": 5
}
